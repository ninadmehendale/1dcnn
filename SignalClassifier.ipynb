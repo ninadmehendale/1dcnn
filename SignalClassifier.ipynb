{
  "nbformat": 4,
  "nbformat_minor": 0,
  "metadata": {
    "colab": {
      "name": "SignalClassifier.ipynb",
      "provenance": []
    },
    "kernelspec": {
      "name": "python3",
      "display_name": "Python 3"
    }
  },
  "cells": [
    {
      "cell_type": "code",
      "metadata": {
        "id": "LJwe4FAITLq1",
        "colab_type": "code",
        "colab": {}
      },
      "source": [
        "import pandas as pd\n",
        "import numpy as np\n",
        "import matplotlib.pyplot as plt\n"
      ],
      "execution_count": 0,
      "outputs": []
    },
    {
      "cell_type": "code",
      "metadata": {
        "id": "o6NwWMzB6QPv",
        "colab_type": "code",
        "colab": {
          "base_uri": "https://localhost:8080/",
          "height": 122
        },
        "outputId": "5d0fa2a4-0742-4c6e-e49a-2270f75a5b08"
      },
      "source": [
        "from google.colab import drive\n",
        "drive.mount('/content/drive')"
      ],
      "execution_count": 2,
      "outputs": [
        {
          "output_type": "stream",
          "text": [
            "Go to this URL in a browser: https://accounts.google.com/o/oauth2/auth?client_id=947318989803-6bn6qk8qdgf4n4g3pfee6491hc0brc4i.apps.googleusercontent.com&redirect_uri=urn%3Aietf%3Awg%3Aoauth%3A2.0%3Aoob&scope=email%20https%3A%2F%2Fwww.googleapis.com%2Fauth%2Fdocs.test%20https%3A%2F%2Fwww.googleapis.com%2Fauth%2Fdrive%20https%3A%2F%2Fwww.googleapis.com%2Fauth%2Fdrive.photos.readonly%20https%3A%2F%2Fwww.googleapis.com%2Fauth%2Fpeopleapi.readonly&response_type=code\n",
            "\n",
            "Enter your authorization code:\n",
            "··········\n",
            "Mounted at /content/drive\n"
          ],
          "name": "stdout"
        }
      ]
    },
    {
      "cell_type": "code",
      "metadata": {
        "id": "Pf2wHpECTeYG",
        "colab_type": "code",
        "colab": {
          "base_uri": "https://localhost:8080/",
          "height": 80
        },
        "outputId": "763b0f9d-fdbf-48b0-9a34-79d47d902f40"
      },
      "source": [
        "import tensorflow as tf\n",
        "from keras.preprocessing import sequence\n",
        "import tensorflow as tf\n",
        "from keras.models import Sequential\n",
        "from keras.layers import Dense\n",
        "from keras.layers import LSTM\n",
        "\n",
        "from keras.optimizers import Adam\n",
        "from keras.models import load_model\n",
        "from keras.callbacks import ModelCheckpoint"
      ],
      "execution_count": 3,
      "outputs": [
        {
          "output_type": "display_data",
          "data": {
            "text/html": [
              "<p style=\"color: red;\">\n",
              "The default version of TensorFlow in Colab will soon switch to TensorFlow 2.x.<br>\n",
              "We recommend you <a href=\"https://www.tensorflow.org/guide/migrate\" target=\"_blank\">upgrade</a> now \n",
              "or ensure your notebook will continue to use TensorFlow 1.x via the <code>%tensorflow_version 1.x</code> magic:\n",
              "<a href=\"https://colab.research.google.com/notebooks/tensorflow_version.ipynb\" target=\"_blank\">more info</a>.</p>\n"
            ],
            "text/plain": [
              "<IPython.core.display.HTML object>"
            ]
          },
          "metadata": {
            "tags": []
          }
        },
        {
          "output_type": "stream",
          "text": [
            "Using TensorFlow backend.\n"
          ],
          "name": "stderr"
        }
      ]
    },
    {
      "cell_type": "code",
      "metadata": {
        "id": "mS2yY-RQ8d3Z",
        "colab_type": "code",
        "colab": {}
      },
      "source": [
        "import glob"
      ],
      "execution_count": 0,
      "outputs": []
    },
    {
      "cell_type": "code",
      "metadata": {
        "id": "FejDRl0gToNd",
        "colab_type": "code",
        "colab": {}
      },
      "source": [
        "#  self.model = load_model('/content/drive/My Drive/mountaincar_success.h5')"
      ],
      "execution_count": 0,
      "outputs": []
    },
    {
      "cell_type": "code",
      "metadata": {
        "id": "X0zu3IjO-8E_",
        "colab_type": "code",
        "colab": {}
      },
      "source": [
        "climb_train_x = []\n",
        "climb_y = []\n",
        "with open('/content/drive/My Drive/climb_train.txt','r') as file:\n",
        "  line_array = file.readlines()\n",
        "  feature_vec = []\n",
        "  count = 0\n",
        "  for l in line_array:\n",
        "    l_array = l.split()\n",
        "    feature_vec.append(float(l_array[0]))\n",
        "    feature_vec.append(float(l_array[1]))\n",
        "    feature_vec.append(float(l_array[2]))\n",
        "    count += 3\n",
        "    if count % 192 == 0:\n",
        "      climb_train_x.append(feature_vec)\n",
        "      feature_vec = []\n",
        "      climb_y.append([1,0,0])"
      ],
      "execution_count": 0,
      "outputs": []
    },
    {
      "cell_type": "code",
      "metadata": {
        "id": "bafr1OmjDdZe",
        "colab_type": "code",
        "colab": {}
      },
      "source": [
        "descend_train_x = []\n",
        "descend_y = []\n",
        "with open('/content/drive/My Drive/descend_train.txt','r') as file:\n",
        "  line_array = file.readlines()\n",
        "  feature_vec = []\n",
        "  count = 0\n",
        "  for l in line_array:\n",
        "    l_array = l.split()\n",
        "    feature_vec.append(float(l_array[0]))\n",
        "    feature_vec.append(float(l_array[1]))\n",
        "    feature_vec.append(float(l_array[2]))\n",
        "    count += 3\n",
        "    if count % 192 == 0:\n",
        "      descend_train_x.append(feature_vec)\n",
        "      feature_vec = []\n",
        "      descend_y.append([0,1,0])"
      ],
      "execution_count": 0,
      "outputs": []
    },
    {
      "cell_type": "code",
      "metadata": {
        "id": "TczU7CTxEl5s",
        "colab_type": "code",
        "colab": {}
      },
      "source": [
        "walk_train_x = []\n",
        "walk_y = []\n",
        "with open('/content/drive/My Drive/walk_train.txt','r') as file:\n",
        "  line_array = file.readlines()\n",
        "  feature_vec = []\n",
        "  count = 0\n",
        "  for l in line_array:\n",
        "    l_array = l.split()\n",
        "    feature_vec.append(float(l_array[0]))\n",
        "    feature_vec.append(float(l_array[1]))\n",
        "    feature_vec.append(float(l_array[2]))\n",
        "    count += 3\n",
        "    if count % 192 == 0:\n",
        "      walk_train_x.append(feature_vec)\n",
        "      feature_vec = []\n",
        "      walk_y.append([0,0,1])"
      ],
      "execution_count": 0,
      "outputs": []
    },
    {
      "cell_type": "code",
      "metadata": {
        "id": "nPCa1yxrDrIl",
        "colab_type": "code",
        "colab": {
          "base_uri": "https://localhost:8080/",
          "height": 51
        },
        "outputId": "bc7692c3-722d-495c-cac0-bd8290af3dd8"
      },
      "source": [
        "print(np.array(descend_train_x).shape)\n",
        "print(np.array(descend_y).shape)"
      ],
      "execution_count": 44,
      "outputs": [
        {
          "output_type": "stream",
          "text": [
            "(163, 192)\n",
            "(163, 3)\n"
          ],
          "name": "stdout"
        }
      ]
    },
    {
      "cell_type": "code",
      "metadata": {
        "id": "3myC32QXCSP8",
        "colab_type": "code",
        "colab": {
          "base_uri": "https://localhost:8080/",
          "height": 51
        },
        "outputId": "3e4e2d5e-de83-416b-98a2-75830d5a0a74"
      },
      "source": [
        "print(np.array(climb_train_x).shape)\n",
        "print(np.array(climb_y).shape)"
      ],
      "execution_count": 10,
      "outputs": [
        {
          "output_type": "stream",
          "text": [
            "(225, 192)\n",
            "(225,)\n"
          ],
          "name": "stdout"
        }
      ]
    },
    {
      "cell_type": "code",
      "metadata": {
        "id": "H67zooX1ElBW",
        "colab_type": "code",
        "colab": {}
      },
      "source": [
        "X_train = np.concatenate((climb_train_x, descend_train_x, walk_train_x), axis=0)\n",
        "y_train = np.concatenate((climb_y, descend_y, walk_y))"
      ],
      "execution_count": 0,
      "outputs": []
    },
    {
      "cell_type": "markdown",
      "metadata": {
        "id": "Nu3gsqqmMMn9",
        "colab_type": "text"
      },
      "source": [
        ""
      ]
    },
    {
      "cell_type": "code",
      "metadata": {
        "id": "jiJ42xa1C3ls",
        "colab_type": "code",
        "colab": {
          "base_uri": "https://localhost:8080/",
          "height": 34
        },
        "outputId": "80d97ea4-a34c-4634-8f12-3ff2df419a6d"
      },
      "source": [
        "print(X_train.shape)"
      ],
      "execution_count": 17,
      "outputs": [
        {
          "output_type": "stream",
          "text": [
            "(947, 192)\n"
          ],
          "name": "stdout"
        }
      ]
    },
    {
      "cell_type": "code",
      "metadata": {
        "id": "bRNlYTZBESGg",
        "colab_type": "code",
        "colab": {}
      },
      "source": [
        "climb_test_x = []\n",
        "climb_test_y = []\n",
        "with open('/content/drive/My Drive/climb_test.txt','r') as file:\n",
        "  line_array = file.readlines()\n",
        "  feature_vec = []\n",
        "  count = 0\n",
        "  for l in line_array:\n",
        "    l_array = l.split()\n",
        "    feature_vec.append(float(l_array[0]))\n",
        "    feature_vec.append(float(l_array[1]))\n",
        "    feature_vec.append(float(l_array[2]))\n",
        "    count += 3\n",
        "    if count % 192 == 0:\n",
        "      climb_test_x.append(feature_vec)\n",
        "      feature_vec = []\n",
        "      climb_test_y.append([1,0,0])"
      ],
      "execution_count": 0,
      "outputs": []
    },
    {
      "cell_type": "code",
      "metadata": {
        "id": "bMdbb3cFHRR5",
        "colab_type": "code",
        "colab": {}
      },
      "source": [
        "descend_test_x = []\n",
        "descend_test_y = []\n",
        "with open('/content/drive/My Drive/descend_test.txt','r') as file:\n",
        "  line_array = file.readlines()\n",
        "  feature_vec = []\n",
        "  count = 0\n",
        "  for l in line_array:\n",
        "    l_array = l.split()\n",
        "    feature_vec.append(float(l_array[0]))\n",
        "    feature_vec.append(float(l_array[1]))\n",
        "    feature_vec.append(float(l_array[2]))\n",
        "    count += 3\n",
        "    if count % 192 == 0:\n",
        "      descend_test_x.append(feature_vec)\n",
        "      feature_vec = []\n",
        "      descend_test_y.append([0,1,0])"
      ],
      "execution_count": 0,
      "outputs": []
    },
    {
      "cell_type": "code",
      "metadata": {
        "id": "ffg3pyaUHZ7D",
        "colab_type": "code",
        "colab": {}
      },
      "source": [
        "walk_test_x = []\n",
        "walk_test_y = []\n",
        "with open('/content/drive/My Drive/walk_train.txt','r') as file:\n",
        "  line_array = file.readlines()\n",
        "  feature_vec = []\n",
        "  count = 0\n",
        "  for l in line_array:\n",
        "    l_array = l.split()\n",
        "    feature_vec.append(float(l_array[0]))\n",
        "    feature_vec.append(float(l_array[1]))\n",
        "    feature_vec.append(float(l_array[2]))\n",
        "    count += 3\n",
        "    if count % 192 == 0:\n",
        "      walk_test_x.append(feature_vec)\n",
        "      feature_vec = []\n",
        "      walk_test_y.append([0,0,1])"
      ],
      "execution_count": 0,
      "outputs": []
    },
    {
      "cell_type": "code",
      "metadata": {
        "id": "QH3-2_gtHgCy",
        "colab_type": "code",
        "colab": {}
      },
      "source": [
        "X_test = np.concatenate((climb_test_x, descend_test_x, walk_test_x), axis=0)\n",
        "y_test = np.concatenate((climb_test_y, descend_test_y, walk_test_y))"
      ],
      "execution_count": 0,
      "outputs": []
    },
    {
      "cell_type": "code",
      "metadata": {
        "id": "RzYkkZSAIB6z",
        "colab_type": "code",
        "colab": {}
      },
      "source": [
        ""
      ],
      "execution_count": 0,
      "outputs": []
    },
    {
      "cell_type": "code",
      "metadata": {
        "id": "1B34BTKTHurD",
        "colab_type": "code",
        "colab": {
          "base_uri": "https://localhost:8080/",
          "height": 51
        },
        "outputId": "836ebc31-a60f-4a87-c6f0-df841978a430"
      },
      "source": [
        "print(X_test.shape)\n",
        "print(y_test.shape)\n",
        "print(y)"
      ],
      "execution_count": 49,
      "outputs": [
        {
          "output_type": "stream",
          "text": [
            "(736, 192)\n",
            "(736, 3)\n"
          ],
          "name": "stdout"
        }
      ]
    },
    {
      "cell_type": "code",
      "metadata": {
        "id": "7qsCfvfTHx0C",
        "colab_type": "code",
        "colab": {
          "base_uri": "https://localhost:8080/",
          "height": 578
        },
        "outputId": "ca2cd6f4-379b-45a9-940b-8386af3fe5cb"
      },
      "source": [
        "model = Sequential()\n",
        "model.add(Dense(128, input_dim=X_train.shape[1], activation='relu'))\n",
        "model.add(Dense(3,activation='softmax'))\n",
        "model.compile(loss=\"mean_squared_error\", optimizer=Adam(lr=0.01), metrics=['accuracy'])\n",
        "model.fit(X_train, y_train, epochs=16)"
      ],
      "execution_count": 116,
      "outputs": [
        {
          "output_type": "stream",
          "text": [
            "Epoch 1/16\n",
            "947/947 [==============================] - 1s 636us/step - loss: 0.2003 - acc: 0.5702\n",
            "Epoch 2/16\n",
            "947/947 [==============================] - 0s 44us/step - loss: 0.1615 - acc: 0.6526\n",
            "Epoch 3/16\n",
            "947/947 [==============================] - 0s 47us/step - loss: 0.1225 - acc: 0.7550\n",
            "Epoch 4/16\n",
            "947/947 [==============================] - 0s 43us/step - loss: 0.1046 - acc: 0.7920\n",
            "Epoch 5/16\n",
            "947/947 [==============================] - 0s 47us/step - loss: 0.0909 - acc: 0.8226\n",
            "Epoch 6/16\n",
            "947/947 [==============================] - 0s 43us/step - loss: 0.0820 - acc: 0.8490\n",
            "Epoch 7/16\n",
            "947/947 [==============================] - 0s 43us/step - loss: 0.0740 - acc: 0.8648\n",
            "Epoch 8/16\n",
            "947/947 [==============================] - 0s 43us/step - loss: 0.0748 - acc: 0.8606\n",
            "Epoch 9/16\n",
            "947/947 [==============================] - 0s 44us/step - loss: 0.0645 - acc: 0.8849\n",
            "Epoch 10/16\n",
            "947/947 [==============================] - 0s 48us/step - loss: 0.0664 - acc: 0.8691\n",
            "Epoch 11/16\n",
            "947/947 [==============================] - 0s 44us/step - loss: 0.0682 - acc: 0.8648\n",
            "Epoch 12/16\n",
            "947/947 [==============================] - 0s 44us/step - loss: 0.0617 - acc: 0.8817\n",
            "Epoch 13/16\n",
            "947/947 [==============================] - 0s 42us/step - loss: 0.0542 - acc: 0.9039\n",
            "Epoch 14/16\n",
            "947/947 [==============================] - 0s 43us/step - loss: 0.0536 - acc: 0.9039\n",
            "Epoch 15/16\n",
            "947/947 [==============================] - 0s 44us/step - loss: 0.0546 - acc: 0.9018\n",
            "Epoch 16/16\n",
            "947/947 [==============================] - 0s 43us/step - loss: 0.0506 - acc: 0.9060\n"
          ],
          "name": "stdout"
        },
        {
          "output_type": "execute_result",
          "data": {
            "text/plain": [
              "<keras.callbacks.History at 0x7f6c8eb790b8>"
            ]
          },
          "metadata": {
            "tags": []
          },
          "execution_count": 116
        }
      ]
    },
    {
      "cell_type": "code",
      "metadata": {
        "id": "o0Vr5UwaMIR1",
        "colab_type": "code",
        "colab": {
          "base_uri": "https://localhost:8080/",
          "height": 51
        },
        "outputId": "09a3f8db-d58c-435d-96b1-59d1e1acb967"
      },
      "source": [
        "model.evaluate(X_test,y_test)"
      ],
      "execution_count": 117,
      "outputs": [
        {
          "output_type": "stream",
          "text": [
            "736/736 [==============================] - 0s 311us/step\n"
          ],
          "name": "stdout"
        },
        {
          "output_type": "execute_result",
          "data": {
            "text/plain": [
              "[0.06143086011718918, 0.8804347826086957]"
            ]
          },
          "metadata": {
            "tags": []
          },
          "execution_count": 117
        }
      ]
    },
    {
      "cell_type": "code",
      "metadata": {
        "id": "g9CDiuRIJpAV",
        "colab_type": "code",
        "colab": {
          "base_uri": "https://localhost:8080/",
          "height": 34
        },
        "outputId": "acb47ca0-d602-4c89-c02d-f0cce2060939"
      },
      "source": [
        "np.argmax(model.predict(X_test)[700])"
      ],
      "execution_count": 63,
      "outputs": [
        {
          "output_type": "execute_result",
          "data": {
            "text/plain": [
              "2"
            ]
          },
          "metadata": {
            "tags": []
          },
          "execution_count": 63
        }
      ]
    },
    {
      "cell_type": "code",
      "metadata": {
        "id": "sxOpXXx2ONPY",
        "colab_type": "code",
        "colab": {
          "base_uri": "https://localhost:8080/",
          "height": 34
        },
        "outputId": "ec0df61a-ce0d-40cf-be50-667a75500649"
      },
      "source": [
        "from sklearn.metrics import accuracy_score, classification_report, confusion_matrix\n",
        "test_preds = model.predict(X_test)\n",
        "y_pred = []\n",
        "y_target = []\n",
        "for i in range(len(test_preds)):\n",
        "  y_pred.append(np.argmax(test_preds[i])) \n",
        "  y_target.append(np.argmax(y_test[i]))\n",
        "print(\"Testing Accuracy\", accuracy_score(y_target, y_pred))"
      ],
      "execution_count": 81,
      "outputs": [
        {
          "output_type": "stream",
          "text": [
            "Testing Accuracy 0.8627717391304348\n"
          ],
          "name": "stdout"
        }
      ]
    },
    {
      "cell_type": "code",
      "metadata": {
        "id": "qgVPP_E9Jjj7",
        "colab_type": "code",
        "colab": {}
      },
      "source": [
        "cm = confusion_matrix(y_target,y_pred)"
      ],
      "execution_count": 0,
      "outputs": []
    },
    {
      "cell_type": "code",
      "metadata": {
        "id": "U2-eZj6NT1I5",
        "colab_type": "code",
        "colab": {
          "base_uri": "https://localhost:8080/",
          "height": 670
        },
        "outputId": "380abc33-9b32-4e30-96a5-3c03c8067fe4"
      },
      "source": [
        "classes = np.array(['Climb','Descend','Walk'])\n",
        "plot_confusion_matrix(y_target,y_pred,classes=classes)"
      ],
      "execution_count": 113,
      "outputs": [
        {
          "output_type": "stream",
          "text": [
            "Normalized confusion matrix\n",
            "[[0.46534653 0.1980198  0.33663366]\n",
            " [0.27631579 0.51315789 0.21052632]\n",
            " [0.01431127 0.00357782 0.98211091]]\n"
          ],
          "name": "stdout"
        },
        {
          "output_type": "execute_result",
          "data": {
            "text/plain": [
              "<matplotlib.axes._subplots.AxesSubplot at 0x7f6c8ee0d780>"
            ]
          },
          "metadata": {
            "tags": []
          },
          "execution_count": 113
        },
        {
          "output_type": "display_data",
          "data": {
            "image/png": "[encoded data removed]",
            "text/plain": [
              "<Figure size 576x576 with 2 Axes>"
            ]
          },
          "metadata": {
            "tags": []
          }
        }
      ]
    },
    {
      "cell_type": "code",
      "metadata": {
        "id": "rFZ51w11Ub_G",
        "colab_type": "code",
        "colab": {}
      },
      "source": [
        ""
      ],
      "execution_count": 0,
      "outputs": []
    },
    {
      "cell_type": "code",
      "metadata": {
        "id": "3rTct1xsUcvm",
        "colab_type": "code",
        "colab": {}
      },
      "source": [
        "from sklearn.utils.multiclass import unique_labels\n",
        "def plot_confusion_matrix(y_true, y_pred, classes,\n",
        "                          normalize=True,\n",
        "                          title=None,\n",
        "                          cmap=plt.cm.Blues):\n",
        "    \"\"\"\n",
        "    This function prints and plots the confusion matrix.\n",
        "    Normalization can be applied by setting `normalize=True`.\n",
        "    \"\"\"\n",
        "    if not title:\n",
        "        if normalize:\n",
        "            title = 'Normalized confusion matrix'\n",
        "        else:\n",
        "            title = 'Confusion matrix, without normalization'\n",
        "\n",
        "    # Compute confusion matrix\n",
        "    cm = confusion_matrix(y_true, y_pred)\n",
        "    # Only use the labels that appear in the data\n",
        "    classes = classes[unique_labels(y_true, y_pred)]\n",
        "    if normalize:\n",
        "        cm = cm.astype('float') / cm.sum(axis=1)[:, np.newaxis]\n",
        "        print(\"Normalized confusion matrix\")\n",
        "    else:\n",
        "        print('Confusion matrix, without normalization')\n",
        "\n",
        "    print(cm)\n",
        "\n",
        "    fig, ax = plt.subplots(figsize=(8,8))\n",
        "    im = ax.imshow(cm, interpolation='nearest', cmap=cmap)\n",
        "    ax.figure.colorbar(im, ax=ax)\n",
        "    # We want to show all ticks...\n",
        "    ax.set(xticks=np.arange(cm.shape[1]),\n",
        "           yticks=np.arange(cm.shape[0]),\n",
        "           # ... and label them with the respective list entries\n",
        "           xticklabels=classes, yticklabels=classes,\n",
        "           title=title,\n",
        "           ylabel='True label',\n",
        "           xlabel='Predicted label')\n",
        "\n",
        "    # Rotate the tick labels and set their alignment.\n",
        "    plt.setp(ax.get_xticklabels(), rotation=45, ha=\"right\",\n",
        "             rotation_mode=\"anchor\")\n",
        "\n",
        "    # Loop over data dimensions and create text annotations.\n",
        "    fmt = '.2f' if normalize else 'd'\n",
        "    thresh = cm.max() / 2.\n",
        "    for i in range(cm.shape[0]):\n",
        "        for j in range(cm.shape[1]):\n",
        "            ax.text(j, i, format(cm[i, j], fmt),\n",
        "                    ha=\"center\", va=\"center\",\n",
        "                    color=\"white\" if cm[i, j] > thresh else \"black\")\n",
        "    fig.tight_layout()\n",
        "    return ax"
      ],
      "execution_count": 0,
      "outputs": []
    },
    {
      "cell_type": "code",
      "metadata": {
        "id": "Gd3kCa3LVJ6r",
        "colab_type": "code",
        "colab": {}
      },
      "source": [
        ""
      ],
      "execution_count": 0,
      "outputs": []
    }
  ]
}